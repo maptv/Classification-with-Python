{
 "cells": [
  {
   "cell_type": "code",
   "execution_count": null,
   "id": "e32f9a02",
   "metadata": {},
   "outputs": [],
   "source": [
    "#######################################################\n",
    "#######################################################\n",
    "############    COPYRIGHT - DATA SOCIETY   ############\n",
    "#######################################################\n",
    "#######################################################\n",
    "\n",
    "## 1 INTROTOCLASSIFICATION/KNN/INTROTOCLASSIFICATION KNN 2 ##\n",
    "\n",
    "## NOTE: To run individual pieces of code, select the line of code and\n",
    "##       press ctrl + enter for PCs or command + enter for Macs"
   ]
  },
  {
   "cell_type": "code",
   "execution_count": null,
   "id": "32062bd4",
   "metadata": {},
   "outputs": [],
   "source": [
    "# =================================================-\n",
    "#### Slide 3: Loading packages  ####\n",
    "\n",
    "import pickle\n",
    "from pathlib import Path\n",
    "\n",
    "import pandas as pd\n",
    "import numpy as np\n",
    "import matplotlib.pyplot as plt\n",
    "from sklearn.neighbors import KNeighborsClassifier\n",
    "from sklearn.preprocessing import scale, StandardScaler\n",
    "from sklearn.pipeline import Pipeline\n",
    "from sklearn.model_selection import train_test_split, cross_val_score, GridSearchCV\n",
    "from sklearn import metrics"
   ]
  },
  {
   "cell_type": "code",
   "execution_count": null,
   "id": "92a77270",
   "metadata": {},
   "outputs": [],
   "source": [
    "# =================================================-\n",
    "#### Slide 4: Load data into Python  ####\n",
    "\n",
    "df = pd.read_csv(str(data_dir) + \"/\" + \"healthcare-dataset-stroke-data.csv\")\n",
    "print(df.head())"
   ]
  },
  {
   "cell_type": "code",
   "execution_count": null,
   "id": "38d5c294",
   "metadata": {},
   "outputs": [],
   "source": [
    "# =================================================-\n",
    "#### Slide 5: Subset data  ####\n",
    "\n",
    "df = df[\n",
    "    [\n",
    "        \"age\",\n",
    "        \"avg_glucose_level\",\n",
    "        \"heart_disease\",\n",
    "        \"ever_married\",\n",
    "        \"hypertension\",\n",
    "        \"Residence_type\",\n",
    "        \"gender\",\n",
    "        \"smoking_status\",\n",
    "        \"work_type\",\n",
    "        \"stroke\",\n",
    "        \"id\",\n",
    "    ]\n",
    "]\n",
    "print(df.head())"
   ]
  },
  {
   "cell_type": "code",
   "execution_count": null,
   "id": "082fbd89",
   "metadata": {},
   "outputs": [],
   "source": [
    "# =================================================-\n",
    "#### Slide 6: Convert target to binary  ####\n",
    "\n",
    "# Target not binary - calculate the mean and assign the above mean to 1 and below to 0\n",
    "threshold = np.mean(df[\"stroke\"])\n",
    "df[\"stroke\"] = np.where(df[\"stroke\"] > threshold, 1, 0)\n",
    "# Target is binary\n",
    "print(df[\"stroke\"])"
   ]
  },
  {
   "cell_type": "code",
   "execution_count": null,
   "id": "df74cea3",
   "metadata": {},
   "outputs": [],
   "source": [
    "# =================================================-\n",
    "#### Slide 9: The data at first glance  ####\n",
    "\n",
    "# The first 3 rows.\n",
    "print(df.head(3))\n",
    "# The data types.\n",
    "print(df.dtypes)\n",
    "print(df[\"stroke\"].value_counts())"
   ]
  },
  {
   "cell_type": "code",
   "execution_count": null,
   "id": "3b784138",
   "metadata": {},
   "outputs": [],
   "source": [
    "# =================================================-\n",
    "#### Slide 10: Data prep: check for NAs  ####\n",
    "\n",
    "# Check for NAs.\n",
    "print(df.isnull().sum())"
   ]
  },
  {
   "cell_type": "code",
   "execution_count": null,
   "id": "0a68cc57",
   "metadata": {},
   "outputs": [],
   "source": [
    "# =================================================-\n",
    "#### Slide 11: Data prep: check for NAs  ####\n",
    "\n",
    "percent_missing = df.isnull().sum() * 100 / len(df)\n",
    "print(percent_missing)"
   ]
  },
  {
   "cell_type": "code",
   "execution_count": null,
   "id": "ca1e10e1",
   "metadata": {},
   "outputs": [],
   "source": [
    "# =================================================-\n",
    "#### Slide 12: Data prep: check for NAs  ####\n",
    "\n",
    "# Delete columns containing either 50% or more than 50% NaN Values\n",
    "perc = 50.0\n",
    "min_count = int(((100 - perc) / 100) * df.shape[0] + 1)\n",
    "df = df.dropna(axis=1, thresh=min_count)\n",
    "print(df.shape)\n",
    "\n",
    "\n",
    "# Function to impute NA in both numeric and categorical columns\n",
    "def fillna(df):\n",
    "    # Fill numeric columns with mean value\n",
    "    df = df.fillna(df.mean())\n",
    "    # Fill categorical columns with mode value\n",
    "    df = df.fillna(df.mode().iloc[0])\n",
    "    return df\n",
    "\n",
    "\n",
    "df = fillna(df)"
   ]
  },
  {
   "cell_type": "code",
   "execution_count": null,
   "id": "959cf1fb",
   "metadata": {},
   "outputs": [],
   "source": [
    "# =================================================-\n",
    "#### Slide 13: Data prep: ready for kNN  ####\n",
    "\n",
    "print(df[\"stroke\"].dtypes)\n",
    "# Identify the the two unique classes\n",
    "unique_values = sorted(df[\"stroke\"].unique())\n",
    "df[\"stroke\"] = np.where(df[\"stroke\"] == unique_values[0], False, True)\n",
    "# Split the data into X and y\n",
    "columns_to_drop_from_X = [\"stroke\"] + [\"id\"]\n",
    "X = df.drop(columns_to_drop_from_X, axis=1)\n",
    "y = np.array(df[\"stroke\"])"
   ]
  },
  {
   "cell_type": "code",
   "execution_count": null,
   "id": "b0869444",
   "metadata": {},
   "outputs": [],
   "source": [
    "# =================================================-\n",
    "#### Slide 14: Data prep: numeric variables  ####\n",
    "\n",
    "print(X.dtypes)\n",
    "X = pd.get_dummies(\n",
    "    X,\n",
    "    columns=[\n",
    "        \"heart_disease\",\n",
    "        \"ever_married\",\n",
    "        \"hypertension\",\n",
    "        \"Residence_type\",\n",
    "        \"gender\",\n",
    "        \"smoking_status\",\n",
    "        \"work_type\",\n",
    "    ],\n",
    "    dtype=float,\n",
    "    drop_first=True,\n",
    ")\n",
    "print(X.dtypes)"
   ]
  },
  {
   "cell_type": "code",
   "execution_count": null,
   "id": "7b7a8e91",
   "metadata": {},
   "outputs": [],
   "source": [
    "# =================================================-\n",
    "#### Slide 20: Train and test: small scale before n-fold  ####\n",
    "\n",
    "# Set the seed.\n",
    "np.random.seed(1)\n",
    "\n",
    "# Split into train and test.\n",
    "X_train, X_test, y_train, y_test = train_test_split(X, y, test_size=0.3)"
   ]
  },
  {
   "cell_type": "code",
   "execution_count": null,
   "id": "9292cf34",
   "metadata": {},
   "outputs": [],
   "source": [
    "# =================================================-\n",
    "#### Slide 22: Data prep: scaling variables  ####\n",
    "\n",
    "# Scale X.\n",
    "X_train = scale(X_train)\n",
    "X_test = scale(X_test)\n",
    "print(X_train[0:2])\n",
    "print(X_test[0:2])\n",
    "\n",
    "\n",
    "#######################################################\n",
    "####  CONGRATULATIONS ON COMPLETING THIS MODULE!   ####\n",
    "#######################################################"
   ]
  },
  {
   "cell_type": "code",
   "execution_count": null,
   "id": "501cfad0",
   "metadata": {},
   "outputs": [],
   "source": [
    "#######################################################\n",
    "#######################################################\n",
    "############    COPYRIGHT - DATA SOCIETY   ############\n",
    "#######################################################\n",
    "#######################################################\n",
    "\n",
    "## 1 INTROTOCLASSIFICATION/KNN/INTROTOCLASSIFICATION KNN 3 ##\n",
    "\n",
    "## NOTE: To run individual pieces of code, select the line of code and\n",
    "##       press ctrl + enter for PCs or command + enter for Macs"
   ]
  },
  {
   "cell_type": "code",
   "execution_count": null,
   "id": "85e75c10",
   "metadata": {},
   "outputs": [],
   "source": [
    "# =================================================-\n",
    "#### Slide 5: kNN: build model  ####\n",
    "\n",
    "# Create kNN classifier.\n",
    "default = 5\n",
    "kNN = KNeighborsClassifier(n_neighbors=default)\n",
    "# Fit the classifier to the data.\n",
    "kNN.fit(X_train, y_train)"
   ]
  },
  {
   "cell_type": "code",
   "execution_count": null,
   "id": "c63098ff",
   "metadata": {},
   "outputs": [],
   "source": [
    "# =================================================-\n",
    "#### Slide 6: kNN: predict on a test set  ####\n",
    "\n",
    "predictions = kNN.predict(X_test)\n",
    "print(predictions[0:5])"
   ]
  },
  {
   "cell_type": "code",
   "execution_count": null,
   "id": "2b220ec3",
   "metadata": {},
   "outputs": [],
   "source": [
    "# =================================================-\n",
    "#### Slide 7: kNN: predict on test  ####\n",
    "\n",
    "actual_v_predicted = np.column_stack((y_test, predictions))\n",
    "print(actual_v_predicted[0:5])"
   ]
  },
  {
   "cell_type": "code",
   "execution_count": null,
   "id": "00063e0f",
   "metadata": {},
   "outputs": [],
   "source": [
    "# =================================================-\n",
    "#### Slide 18: Confusion matrix in python  ####\n",
    "\n",
    "# Confusion matrix for kNN.\n",
    "cm_kNN = confusion_matrix(y_test, predictions)\n",
    "print(cm_kNN)\n",
    "print(round(accuracy_score(y_test, predictions), 4))"
   ]
  },
  {
   "cell_type": "code",
   "execution_count": null,
   "id": "c4a5e609",
   "metadata": {},
   "outputs": [],
   "source": [
    "# =================================================-\n",
    "#### Slide 19: Confusion matrix: visualize  ####\n",
    "\n",
    "plt.imshow(cm_kNN, interpolation=\"nearest\", cmap=plt.cm.Wistia)\n",
    "classNames = [\"Negative\", \"Positive\"]\n",
    "plt.title(\"Confusion Matrix - Test Data\")\n",
    "plt.ylabel(\"True label\")\n",
    "plt.xlabel(\"Predicted label\")\n",
    "tick_marks = np.arange(len(classNames))\n",
    "plt.xticks(tick_marks, classNames, rotation=45)\n",
    "plt.yticks(tick_marks, classNames)\n",
    "s = [[\"TN\", \"FP\"], [\"FN\", \"TP\"]]\n",
    "for i in range(2):\n",
    "    for j in range(2):\n",
    "        plt.text(j, i, str(s[i][j]) + \" = \" + str(cm_kNN[i][j]))\n",
    "plt.show()"
   ]
  },
  {
   "cell_type": "code",
   "execution_count": null,
   "id": "0742fbe4",
   "metadata": {},
   "outputs": [],
   "source": [
    "# =================================================-\n",
    "#### Slide 20: Evaluation of kNN with k neighbors  ####\n",
    "\n",
    "# Create a dictionary with accuracy values for our kNN model with k.\n",
    "model_final_dict = {\n",
    "    \"metrics\": [\"accuracy\"],\n",
    "    \"values\": [round(accuracy_score(y_test, predictions), 4)],\n",
    "    \"model\": [\"kNN_k\"],\n",
    "}\n",
    "model_final = pd.DataFrame(data=model_final_dict)\n",
    "print(model_final)"
   ]
  },
  {
   "cell_type": "code",
   "execution_count": null,
   "id": "e271a6ef",
   "metadata": {},
   "outputs": [],
   "source": [
    "# =================================================-\n",
    "#### Slide 24: Plot ROC and calculate AUC  ####\n",
    "\n",
    "# Store FPR, TPR, and threshold as variables.\n",
    "fpr, tpr, threshold = metrics.roc_curve(y_test, predictions)\n",
    "# Store the AUC.\n",
    "roc_auc = metrics.auc(fpr, tpr)\n",
    "plt.title(\"Receiver Operating Characteristic\")\n",
    "plt.plot(fpr, tpr, \"b\", label=\"AUC = %0.2f\" % roc_auc)\n",
    "plt.legend(loc=\"lower right\")\n",
    "plt.plot([0, 1], [0, 1], \"r--\")\n",
    "plt.xlim([0, 1])\n",
    "plt.ylim([0, 1])\n",
    "plt.ylabel(\"True Positive Rate\")\n",
    "plt.xlabel(\"False Positive Rate\")\n",
    "plt.show()\n",
    "\n",
    "\n",
    "#######################################################\n",
    "####  CONGRATULATIONS ON COMPLETING THIS MODULE!   ####\n",
    "#######################################################"
   ]
  },
  {
   "cell_type": "code",
   "execution_count": null,
   "id": "63171575",
   "metadata": {},
   "outputs": [],
   "source": [
    "#######################################################\n",
    "#######################################################\n",
    "############    COPYRIGHT - DATA SOCIETY   ############\n",
    "#######################################################\n",
    "#######################################################\n",
    "\n",
    "## 1 INTROTOCLASSIFICATION/KNN/INTROTOCLASSIFICATION KNN 4 ##\n",
    "\n",
    "## NOTE: To run individual pieces of code, select the line of code and\n",
    "##       press ctrl + enter for PCs or command + enter for Macs"
   ]
  },
  {
   "cell_type": "code",
   "execution_count": null,
   "id": "0b1b4bee",
   "metadata": {},
   "outputs": [],
   "source": [
    "# =================================================-\n",
    "#### Slide 6: Cross-validation pipeline for optimal accuracy  ####\n",
    "\n",
    "# Create a pipeline of the scaler and Estimator\n",
    "cv_pipeline = Pipeline([(\"transformer\", StandardScaler()), (\"estimator\", kNN)])"
   ]
  },
  {
   "cell_type": "code",
   "execution_count": null,
   "id": "0e2f20cd",
   "metadata": {},
   "outputs": [],
   "source": [
    "# =================================================-\n",
    "#### Slide 7: Cross-validation for optimal accuracy  ####\n",
    "\n",
    "# Calculate cv scores\n",
    "cv_scores = cross_val_score(cv_pipeline, X, y, cv=5)"
   ]
  },
  {
   "cell_type": "code",
   "execution_count": null,
   "id": "0eaf8fce",
   "metadata": {},
   "outputs": [],
   "source": [
    "# =================================================-\n",
    "#### Slide 8: Cross-validation for optimal accuracy  ####\n",
    "\n",
    "# Print each cv score (accuracy) and average them.\n",
    "print(cv_scores)\n",
    "print(\"cv_scores mean:{}\".format(np.mean(cv_scores)))\n",
    "mean = np.mean(cv_scores)\n",
    "print(\"Optimal cv score is:\", round(mean, 4))\n",
    "\n",
    "\n",
    "#######################################################\n",
    "####  CONGRATULATIONS ON COMPLETING THIS MODULE!   ####\n",
    "#######################################################"
   ]
  },
  {
   "cell_type": "code",
   "execution_count": null,
   "id": "b5cbe553",
   "metadata": {},
   "outputs": [],
   "source": [
    "#######################################################\n",
    "#######################################################\n",
    "############    COPYRIGHT - DATA SOCIETY   ############\n",
    "#######################################################\n",
    "#######################################################\n",
    "\n",
    "## 1 INTROTOCLASSIFICATION/KNN/INTROTOCLASSIFICATION KNN 5 ##\n",
    "\n",
    "## NOTE: To run individual pieces of code, select the line of code and\n",
    "##       press ctrl + enter for PCs or command + enter for Macs"
   ]
  },
  {
   "cell_type": "code",
   "execution_count": null,
   "id": "35e3dee3",
   "metadata": {},
   "outputs": [],
   "source": [
    "# =================================================-\n",
    "#### Slide 5: Finding optimal k - GridSearchCV  ####\n",
    "\n",
    "# Define the parameter values that should be searched.\n",
    "k_range = list(range(1, 31))\n",
    "\n",
    "# Create a parameter grid: map the parameter names to the values that should be searched by building a Python dictionary.\n",
    "# key: parameter name\n",
    "# value: list of values that should be searched for that parameter\n",
    "# single key-value pair for param_grid\n",
    "param_grid = dict(n_neighbors=k_range)\n",
    "print(param_grid)\n",
    "\n",
    "# Instantiate the grid using our original model - kNN with k.\n",
    "grid = GridSearchCV(kNN, param_grid, cv=10, scoring=\"accuracy\")"
   ]
  },
  {
   "cell_type": "code",
   "execution_count": null,
   "id": "57b526ae",
   "metadata": {},
   "outputs": [],
   "source": [
    "# =================================================-\n",
    "#### Slide 6: Finding optimal k - GridSearchCV  ####\n",
    "\n",
    "# Create a pipeline of the scaler and gridsearch\n",
    "grid_search_pipeline = Pipeline(\n",
    "    [(\"transformer\", StandardScaler()), (\"estimator\", grid)]\n",
    ")\n",
    "\n",
    "# Fit Gridsearch pipeline\n",
    "grid_search_pipeline.fit(X, y)"
   ]
  },
  {
   "cell_type": "code",
   "execution_count": null,
   "id": "a4d31b72",
   "metadata": {},
   "outputs": [],
   "source": [
    "# =================================================-\n",
    "#### Slide 7: Finding optimal k - view results  ####\n",
    "\n",
    "# View the complete results (list of named tuples).\n",
    "print(grid.cv_results_[\"mean_test_score\"])"
   ]
  },
  {
   "cell_type": "code",
   "execution_count": null,
   "id": "350296dd",
   "metadata": {},
   "outputs": [],
   "source": [
    "# =================================================-\n",
    "#### Slide 8: Finding optimal k  ####\n",
    "\n",
    "# Create a list of the mean scores only by using a list comprehension to loop through grid.cv_results_.\n",
    "grid_mean_scores = [result for result in grid.cv_results_[\"mean_test_score\"]]\n",
    "print(grid_mean_scores)"
   ]
  },
  {
   "cell_type": "code",
   "execution_count": null,
   "id": "46efc501",
   "metadata": {},
   "outputs": [],
   "source": [
    "# =================================================-\n",
    "#### Slide 9: Finding optimal k - plot  ####\n",
    "\n",
    "# Plot the results.\n",
    "_ = plt.plot(k_range, grid_mean_scores)\n",
    "_ = plt.xlabel(\"Value of K for kNN\")\n",
    "_ = plt.ylabel(\"Cross-Validated Accuracy\")\n",
    "plt.show()"
   ]
  },
  {
   "cell_type": "code",
   "execution_count": null,
   "id": "4906e389",
   "metadata": {},
   "outputs": [],
   "source": [
    "# =================================================-\n",
    "#### Slide 10: Define and examine the optimized model   ####\n",
    "\n",
    "# Single best score achieved across all params (k).\n",
    "print(grid.best_score_)\n",
    "grid_score = grid.best_score_\n",
    "\n",
    "# Dictionary containing the parameters (k) used to generate that score.\n",
    "print(grid.best_params_)\n",
    "\n",
    "# Actual model object fit with those best parameters.\n",
    "# Shows default parameters that we did not specify.\n",
    "print(grid.best_estimator_)"
   ]
  },
  {
   "cell_type": "code",
   "execution_count": null,
   "id": "55258ffa",
   "metadata": {},
   "outputs": [],
   "source": [
    "# =================================================-\n",
    "#### Slide 11: Add GridSearchCV score to the final scores  ####\n",
    "\n",
    "model_final = model_final.append(\n",
    "    {\n",
    "        \"metrics\": \"accuracy\",\n",
    "        \"values\": round(grid_score, 4),\n",
    "        \"model\": \"kNN_GridSearchCV\",\n",
    "    },\n",
    "    ignore_index=True,\n",
    ")\n",
    "print(model_final)"
   ]
  },
  {
   "cell_type": "code",
   "execution_count": null,
   "id": "d394f629",
   "metadata": {},
   "outputs": [],
   "source": [
    "# =================================================-\n",
    "#### Slide 12: Optimal model and final thoughts  ####\n",
    "\n",
    "kNN_best = grid.best_estimator_\n",
    "\n",
    "# Check accuracy of our model on the test data.\n",
    "print(kNN_best.score(X_test, y_test))\n",
    "kNN_champ = kNN_best.score(X_test, y_test)"
   ]
  },
  {
   "cell_type": "code",
   "execution_count": null,
   "id": "f2f384e8",
   "metadata": {},
   "outputs": [],
   "source": [
    "# =================================================-\n",
    "#### Slide 14: Final Model   ####\n",
    "\n",
    "# Save this final model\n",
    "model_final = {\n",
    "    \"metrics\": \"accuracy\",\n",
    "    \"values\": round(kNN_champ, 4),\n",
    "    \"model\": \"kNN_optimized\",\n",
    "}\n",
    "print(model_final)\n",
    "pickle.dump(model_final, open(str(data_dir) + \"/\" + \"model_final.sav\", \"wb\"))"
   ]
  },
  {
   "cell_type": "code",
   "execution_count": null,
   "id": "4a635e92",
   "metadata": {},
   "outputs": [],
   "source": [
    "# =================================================-\n",
    "#### Slide 18: Exercise  ####\n",
    "\n",
    "\n",
    "#######################################################\n",
    "####  CONGRATULATIONS ON COMPLETING THIS MODULE!   ####\n",
    "#######################################################"
   ]
  }
 ],
 "metadata": {
  "kernelspec": {
   "display_name": "Python 3 (ipykernel)",
   "language": "python",
   "name": "python3"
  },
  "language": "python",
  "language_info": {
   "codemirror_mode": {
    "name": "ipython",
    "version": 3
   },
   "file_extension": ".py",
   "mimetype": "text/x-python",
   "name": "python",
   "nbconvert_exporter": "python",
   "pygments_lexer": "ipython3",
   "version": "3.12.0"
  }
 },
 "nbformat": 4,
 "nbformat_minor": 5
}
