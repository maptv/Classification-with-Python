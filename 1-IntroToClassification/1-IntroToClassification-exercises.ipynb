{
 "cells": [
  {
   "cell_type": "markdown",
   "id": "7da43ac9",
   "metadata": {},
   "source": [
    "## 1 INTROTOCLASSIFICATION/KNN/INTROTOCLASSIFICATION KNN 5 EXERCISE  ##\n",
    "#### Exercise ####\n",
    "#### Please refer to module 2 of IntroToClassification - kNN for Tasks 1-8\n",
    "#### Task 1\n",
    "##### Import the required packages.\n",
    "##### Set the working directory to data directory.\n",
    "##### Print the working directory.\n",
    "#### Result:\n"
   ]
  },
  {
   "cell_type": "code",
   "execution_count": null,
   "id": "ee859f64",
   "metadata": {},
   "outputs": [],
   "source": []
  },
  {
   "cell_type": "markdown",
   "id": "5e6e5ff5",
   "metadata": {},
   "source": [
    "#### Task 2\n",
    "##### Read in our dataset called `'heart_failure_clinical_records_dataset.csv'`. Save it as `ex_data`.\n",
    "##### Print the head of `ex_data`.\n",
    "##### Print the type and length of `ex_data`.\n",
    "##### Save the shape of the dataset into two variables `ex_nrow` and `ex_ncol` and print them.\n",
    "##### Subset the dataframe to include only numeric and categorical columns.\n",
    "#### Result:\n"
   ]
  },
  {
   "cell_type": "code",
   "execution_count": null,
   "id": "d1b6a69a",
   "metadata": {},
   "outputs": [],
   "source": []
  },
  {
   "cell_type": "markdown",
   "id": "29bff1dd",
   "metadata": {},
   "source": [
    "#### Task 3\n",
    "##### Convert the target to binary if it is not already\n",
    "##### Save the converted data frame as `ex_data` and print its head.\n",
    "##### Print the converted column.\n",
    "#### Result:\n"
   ]
  },
  {
   "cell_type": "code",
   "execution_count": null,
   "id": "089b55c3",
   "metadata": {},
   "outputs": [],
   "source": []
  },
  {
   "cell_type": "markdown",
   "id": "7bb78e8e",
   "metadata": {},
   "source": [
    "#### Task 4\n",
    "##### Check for NAs in `ex_data`\n",
    "##### Fill NAs in `ex_data` with mean.\n",
    "##### Delete columns containing either 50% or more than 50% NaN Values\n",
    "#### Result:\n"
   ]
  },
  {
   "cell_type": "code",
   "execution_count": null,
   "id": "517f27d0",
   "metadata": {},
   "outputs": [],
   "source": []
  },
  {
   "cell_type": "markdown",
   "id": "16691285",
   "metadata": {},
   "source": [
    "#### Task 5\n",
    "##### Write a function to impute NA in both numeric and categorical columns\n",
    "##### Use the function to impute NA\n",
    "#### Result:\n"
   ]
  },
  {
   "cell_type": "code",
   "execution_count": null,
   "id": "0512c5a4",
   "metadata": {},
   "outputs": [],
   "source": []
  },
  {
   "cell_type": "markdown",
   "id": "9a66be49",
   "metadata": {},
   "source": [
    "#### Task 6\n",
    "##### Convert `death_event` to `bool` dtype so that is a binary class\n",
    "#### Result:\n"
   ]
  },
  {
   "cell_type": "code",
   "execution_count": null,
   "id": "5c6412bf",
   "metadata": {},
   "outputs": [],
   "source": []
  },
  {
   "cell_type": "markdown",
   "id": "ca631ff3",
   "metadata": {},
   "source": [
    "#### Task 7\n",
    "##### Split the data into ex_X and ex_y \n",
    "##### Convert categorical data in ex_X to integer values (Hint: use `get_dummies`)\n",
    "#### Result:\n"
   ]
  },
  {
   "cell_type": "code",
   "execution_count": null,
   "id": "dbcf1eaf",
   "metadata": {},
   "outputs": [],
   "source": []
  },
  {
   "cell_type": "markdown",
   "id": "48200678",
   "metadata": {},
   "source": [
    "#### Task 8\n",
    "##### Set a seed value\n",
    "##### Split data into train and test \n",
    "##### Scale our X and y predictors separately\n",
    "#### Result:\n"
   ]
  },
  {
   "cell_type": "code",
   "execution_count": null,
   "id": "15e3a5e6",
   "metadata": {},
   "outputs": [],
   "source": []
  },
  {
   "cell_type": "markdown",
   "id": "dfcba560",
   "metadata": {},
   "source": [
    "#### Please refer to module 3 of IntroToClassification - kNN for Tasks 9-13\n",
    "#### Task 9\n",
    "##### Set `default = 5`\n",
    "##### Create kNN classifier\n",
    "##### Fit the classifier to the data\n",
    "##### Predict using the classifier and call it predictions\n",
    "#### Result:\n"
   ]
  },
  {
   "cell_type": "code",
   "execution_count": null,
   "id": "639f36ab",
   "metadata": {},
   "outputs": [],
   "source": []
  },
  {
   "cell_type": "markdown",
   "id": "1b9687e0",
   "metadata": {},
   "source": [
    "#### Task 10\n",
    "##### Print the vector of predicted values versus actual values\n",
    "##### function called `confusion_matrix` from `sklearn.metrics` \n",
    "#### Result:\n"
   ]
  },
  {
   "cell_type": "code",
   "execution_count": null,
   "id": "374cb491",
   "metadata": {},
   "outputs": [],
   "source": []
  },
  {
   "cell_type": "markdown",
   "id": "cf4a5a1e",
   "metadata": {},
   "source": [
    "#### Task 11\n",
    "##### Print the vector of predicted values versus actual values\n",
    "##### Use function called `confusion_matrix` from `sklearn.metrics` \n",
    "##### Using `accuracy_score` from `sklearn.metrics` calculate the accuracy score\n",
    "#### Result:\n"
   ]
  },
  {
   "cell_type": "code",
   "execution_count": null,
   "id": "7de3e030",
   "metadata": {},
   "outputs": [],
   "source": []
  },
  {
   "cell_type": "markdown",
   "id": "47cb3c14",
   "metadata": {},
   "source": [
    "#### Task 12\n",
    "##### Create `ex_cm_kNN` a confusion matrix and print it\n",
    "##### Visualize our confusion matrix\n",
    "#### Result:\n"
   ]
  },
  {
   "cell_type": "code",
   "execution_count": null,
   "id": "87f4c096",
   "metadata": {},
   "outputs": [],
   "source": []
  },
  {
   "cell_type": "markdown",
   "id": "73070b72",
   "metadata": {},
   "source": [
    "#### Task 13\n",
    "##### Plot the ROC for our model\n",
    "##### Calculate the AUC\n",
    "#### Result:\n"
   ]
  },
  {
   "cell_type": "code",
   "execution_count": null,
   "id": "63467087",
   "metadata": {},
   "outputs": [],
   "source": []
  },
  {
   "cell_type": "markdown",
   "id": "8d4a1fa9",
   "metadata": {},
   "source": [
    "#### Please refer to module 4 of IntroToClassification - kNN for Task 14\n",
    "#### Task 14\n",
    "##### Create a pipeline of the scaler and Estimator\n",
    "##### Calculate cv scores and print the mean\n",
    "#### Result:\n"
   ]
  },
  {
   "cell_type": "code",
   "execution_count": null,
   "id": "672d7c4a",
   "metadata": {},
   "outputs": [],
   "source": []
  },
  {
   "cell_type": "markdown",
   "id": "6e82472b",
   "metadata": {},
   "source": [
    "#### Please refer to module 5 of IntroToClassification - kNN for Tasks 15-19\n",
    "#### Task 15\n",
    "#####  Define the parameter values between 1 and 31 that should be searched as `k_range`\n",
    "##### Create a parameter grid: map the parameter names to the values that should be searched by building a Python dictionary. \n",
    "##### Instantiate the grid using our original model - kNN with k and call it as `grid`\n",
    "#### Result:\n"
   ]
  },
  {
   "cell_type": "code",
   "execution_count": null,
   "id": "f086b63a",
   "metadata": {},
   "outputs": [],
   "source": []
  },
  {
   "cell_type": "markdown",
   "id": "61015745",
   "metadata": {},
   "source": [
    "#### Task 16\n",
    "##### Create a pipeline of the scaler and gridsearch as `grid_search_pipeline`\n",
    "##### Fit Gridsearch pipeline\n",
    "##### Print the complete results (list of named tuples).\n",
    "#### Result:\n"
   ]
  },
  {
   "cell_type": "code",
   "execution_count": null,
   "id": "d6bd6b07",
   "metadata": {},
   "outputs": [],
   "source": []
  },
  {
   "cell_type": "markdown",
   "id": "6d7a227a",
   "metadata": {},
   "source": [
    "#### Task 17\n",
    "##### Create a list of the mean scores only by using a list comprehension to loop through grid.cv_results_ and print it.\n",
    "##### Plot optimal k - plot, by plotting k_range with grid_mean_scores\n",
    "#### Result:\n"
   ]
  },
  {
   "cell_type": "code",
   "execution_count": null,
   "id": "1fa34d90",
   "metadata": {},
   "outputs": [],
   "source": []
  },
  {
   "cell_type": "markdown",
   "id": "b717b5c2",
   "metadata": {},
   "source": [
    "#### Task 18\n",
    "##### Print the vector of predicted values versus actual values\n",
    "##### function called `confusion_matrix` from `sklearn.metrics` \n",
    "#### Result:\n"
   ]
  },
  {
   "cell_type": "code",
   "execution_count": null,
   "id": "14c4b5cf",
   "metadata": {},
   "outputs": [],
   "source": []
  },
  {
   "cell_type": "markdown",
   "id": "b61b9652",
   "metadata": {},
   "source": [
    "#### Task 19\n",
    "##### Print the single best score achieved across all params (k).\n",
    "##### Print the dictionary containing the parameters (k) used to generate that score.\n",
    "##### Actual model object fit with those best parameters (Hint: use best_estimator_)\n",
    "#### Result:\n"
   ]
  },
  {
   "cell_type": "code",
   "execution_count": null,
   "id": "704f8ce0",
   "metadata": {},
   "outputs": [],
   "source": []
  }
 ],
 "metadata": {
  "language": "python"
 },
 "nbformat": 4,
 "nbformat_minor": 5
}
