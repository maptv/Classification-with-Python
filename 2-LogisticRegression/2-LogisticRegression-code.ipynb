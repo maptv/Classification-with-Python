{
 "cells": [
  {
   "cell_type": "code",
   "execution_count": 1,
   "id": "a45427ef",
   "metadata": {},
   "outputs": [],
   "source": [
    "#######################################################\n",
    "#######################################################\n",
    "############    COPYRIGHT - DATA SOCIETY   ############\n",
    "#######################################################\n",
    "#######################################################\n",
    "\n",
    "## 2 LOGISTICREGRESSION/LOGISTICREGRESSION/LOGISTICREGRESSION LOGISTICREGRESSION 2 ##\n",
    "\n",
    "## NOTE: To run individual pieces of code, select the line of code and\n",
    "##       press ctrl + enter for PCs or command + enter for Macs"
   ]
  },
  {
   "cell_type": "code",
   "execution_count": 2,
   "id": "f2cc7a26-380c-4fac-88f1-22f5e17d5ca0",
   "metadata": {},
   "outputs": [
    {
     "ename": "SyntaxError",
     "evalue": "invalid syntax (1001866816.py, line 15)",
     "output_type": "error",
     "traceback": [
      "\u001b[0;36m  Cell \u001b[0;32mIn[2], line 15\u001b[0;36m\u001b[0m\n\u001b[0;31m    nfrom sklearn import linear_model\u001b[0m\n\u001b[0m          ^\u001b[0m\n\u001b[0;31mSyntaxError\u001b[0m\u001b[0;31m:\u001b[0m invalid syntax\n"
     ]
    }
   ],
   "source": [
    "# =================================================-\n",
    "#### Slide 3: Loading packages  ####\n",
    "\n",
    "from pathlib import Path\n",
    "\n",
    "import joblib\n",
    "import pandas as pd\n",
    "import numpy as np\n",
    "import matplotlib.pyplot as plt\n",
    "from sklearn import metrics\n",
    "from sklearn.model_selection import train_test_split, cross_val_score, GridSearchCV\n",
    "from sklearn.neighbors import KNeighborsClassifier\n",
    "from sklearn.pipeline import Pipeline\n",
    "from sklearn import preprocessing\n",
    "nfrom sklearn import linear_model"
   ]
  },
  {
   "cell_type": "code",
   "execution_count": null,
   "id": "d6720b3c-6338-478d-86a4-61eb0ce9a639",
   "metadata": {},
   "outputs": [],
   "source": [
    "main_dir = Path.cwd().parent\n",
    "data_dir = main_dir / \"data\""
   ]
  },
  {
   "cell_type": "code",
   "execution_count": null,
   "id": "82d8a8b8-ab64-4c04-8a7e-63e97e2bff45",
   "metadata": {},
   "outputs": [],
   "source": [
    "# =================================================-\n",
    "#### Slide 6: Load data into Python  ####\n",
    "\n",
    "df = pd.read_csv(data_dir / \"healthcare-dataset-stroke-data.csv\")\n",
    "df.head()"
   ]
  },
  {
   "cell_type": "code",
   "execution_count": null,
   "id": "225d864f",
   "metadata": {},
   "outputs": [],
   "source": [
    "# =================================================-\n",
    "#### Slide 7: Subset data  ####\n",
    "\n",
    "# df_subset = df[\n",
    "#     [\n",
    "#         \"age\",\n",
    "#         \"avg_glucose_level\",\n",
    "#         \"heart_disease\",\n",
    "#         \"ever_married\",\n",
    "#         \"hypertension\",\n",
    "#         \"Residence_type\",\n",
    "#         \"gender\",\n",
    "#         \"smoking_status\",\n",
    "#         \"work_type\",\n",
    "#         \"stroke\",\n",
    "#         \"id\",\n",
    "#     ]\n",
    "# ]\n",
    "# print(df_subset.head())"
   ]
  },
  {
   "cell_type": "code",
   "execution_count": null,
   "id": "4ffad673-74be-4297-a9ee-a1dde24456e2",
   "metadata": {},
   "outputs": [],
   "source": [
    "df = df.set_index(\"id\")"
   ]
  },
  {
   "cell_type": "code",
   "execution_count": null,
   "id": "e73abd57-badf-4163-b6d5-e70a11bddd56",
   "metadata": {},
   "outputs": [],
   "source": [
    "dummy_df = pd.get_dummies(df, columns=df.select_dtypes(\"object\").columns)\n",
    "dummy_df"
   ]
  },
  {
   "cell_type": "code",
   "execution_count": null,
   "id": "e5758f75",
   "metadata": {},
   "outputs": [],
   "source": [
    "# =================================================-\n",
    "#### Slide 8: Convert target to binary  ####\n",
    "\n",
    "# # Target is binary\n",
    "# print(df_subset[\"stroke\"].head())\n",
    "# # Identify the the two unique classes\n",
    "# unique_values = sorted(df_subset[\"stroke\"].unique())\n",
    "# df_subset[\"stroke\"] = np.where(df_subset[\"stroke\"] == unique_values[0], False, True)"
   ]
  },
  {
   "cell_type": "code",
   "execution_count": null,
   "id": "693d7c66",
   "metadata": {},
   "outputs": [],
   "source": [
    "# =================================================-\n",
    "#### Slide 11: Data prep: target variable  ####\n",
    "\n",
    "# print(df_subset[\"stroke\"].dtypes)\n",
    "# # Identify the the two unique classes\n",
    "# unique_values = sorted(df_subset[\"stroke\"].unique())\n",
    "# df_subset[\"stroke\"] = np.where(df_subset[\"stroke\"] == unique_values[0], False, True)\n",
    "# # Check class again.\n",
    "# print(df_subset[\"stroke\"].dtypes)"
   ]
  },
  {
   "cell_type": "code",
   "execution_count": null,
   "id": "2979603c",
   "metadata": {},
   "outputs": [],
   "source": [
    "# =================================================-\n",
    "#### Slide 12: Data prep: check for NAs  ####\n",
    "\n",
    "# # Check for NAs.\n",
    "# print(df_subset.isnull().sum())\n",
    "# percent_missing = df_subset.isnull().sum() * 100 / len(df_subset)\n",
    "# print(percent_missing)"
   ]
  },
  {
   "cell_type": "code",
   "execution_count": null,
   "id": "7f25ae2f",
   "metadata": {},
   "outputs": [],
   "source": [
    "# =================================================-\n",
    "#### Slide 13: Data prep: check for NAs (cont'd)  ####\n",
    "\n",
    "# # Delete columns containing either 50% or more than 50% NaN Values\n",
    "# perc = 50.0\n",
    "# min_count = int(((100 - perc) / 100) * df_subset.shape[0] + 1)\n",
    "# df_subset = df_subset.dropna(axis=1, thresh=min_count)\n",
    "# print(df_subset.shape)"
   ]
  },
  {
   "cell_type": "code",
   "execution_count": null,
   "id": "54b33a21-a71e-4d21-baa5-2912403f5a4e",
   "metadata": {},
   "outputs": [],
   "source": [
    "from sklearn.impute import KNNImputer\n",
    "\n",
    "imputer = KNNImputer()\n",
    "dummy_df = pd.DataFrame(\n",
    "    imputer.fit_transform(dummy_df), columns=dummy_df.columns, index=df.index\n",
    ")"
   ]
  },
  {
   "cell_type": "code",
   "execution_count": null,
   "id": "47568780",
   "metadata": {},
   "outputs": [],
   "source": [
    "# =================================================-\n",
    "#### Slide 14: Data prep: check for NAs (cont'd)  ####\n",
    "\n",
    "\n",
    "# # Function to impute NA in both numeric and categorical columns\n",
    "# def fillna(df):\n",
    "#     # Fill numeric columns with mean value\n",
    "#     df = df.fillna(df.mean())\n",
    "#     # Fill categorical columns with mode value\n",
    "#     df = df.fillna(df.mode().iloc[0])\n",
    "#     return df\n",
    "\n",
    "\n",
    "# df_subset = fillna(df_subset)"
   ]
  },
  {
   "cell_type": "code",
   "execution_count": null,
   "id": "02c6385a",
   "metadata": {},
   "outputs": [],
   "source": [
    "# =================================================-\n",
    "#### Slide 15: Data prep: split data   ####\n",
    "\n",
    "# # Split the data into X and y\n",
    "# columns_to_drop_from_X = [\"stroke\"] + [\"id\"]\n",
    "# X = df_subset.drop(columns_to_drop_from_X, axis=1)\n",
    "# y = np.array(df_subset[\"stroke\"])"
   ]
  },
  {
   "cell_type": "code",
   "execution_count": null,
   "id": "54d3ceca",
   "metadata": {},
   "outputs": [],
   "source": [
    "# =================================================-\n",
    "#### Slide 19: Data prep: convert categorical data columns to dummies  ####\n",
    "\n",
    "# print(X.dtypes)\n",
    "# X = pd.get_dummies(\n",
    "#     X,\n",
    "#     columns=[\n",
    "#         \"heart_disease\",\n",
    "#         \"ever_married\",\n",
    "#         \"hypertension\",\n",
    "#         \"Residence_type\",\n",
    "#         \"gender\",\n",
    "#         \"smoking_status\",\n",
    "#         \"work_type\",\n",
    "#     ],\n",
    "#     dtype=float,\n",
    "#     drop_first=True,\n",
    "# )\n",
    "# print(X.dtypes)"
   ]
  },
  {
   "cell_type": "code",
   "execution_count": null,
   "id": "41a597e1-a4ca-4861-a43f-fe7f5a9579c5",
   "metadata": {},
   "outputs": [],
   "source": [
    "# Split the data into X and y\n",
    "X = dummy_df.drop(columns=\"stroke\")\n",
    "y = dummy_df[\"stroke\"]"
   ]
  },
  {
   "cell_type": "code",
   "execution_count": null,
   "id": "d3651462",
   "metadata": {},
   "outputs": [],
   "source": [
    "# =================================================-\n",
    "#### Slide 20: Split into train and test set  ####\n",
    "\n",
    "# Set the seed.\n",
    "np.random.seed(1)\n",
    "\n",
    "# Split data into train and test sets, use a 70 train - 30 test split.\n",
    "X_train, X_test, y_train, y_test = train_test_split(X, y, test_size=0.3)"
   ]
  },
  {
   "cell_type": "code",
   "execution_count": null,
   "id": "450a5896",
   "metadata": {},
   "outputs": [],
   "source": [
    "# =================================================-\n",
    "#### Slide 23: Scale the features (cont'd)  ####\n",
    "\n",
    "# Initialize scaler.\n",
    "scaler = preprocessing.MinMaxScaler()\n",
    "\n",
    "# Fit on training data.\n",
    "scaler.fit(X_train)\n",
    "\n",
    "# Scale training and test data.\n",
    "X_train_scaled = scaler.transform(X_train)\n",
    "X_test_scaled = scaler.transform(X_test)"
   ]
  },
  {
   "cell_type": "code",
   "execution_count": null,
   "id": "1e2ff62c",
   "metadata": {},
   "outputs": [],
   "source": [
    "# =================================================-\n",
    "#### Slide 27: Logistic regression: build  ####\n",
    "\n",
    "# Set up logistic regression model.\n",
    "logistic_regression_model = linear_model.LogisticRegression()\n",
    "print(logistic_regression_model)"
   ]
  },
  {
   "cell_type": "code",
   "execution_count": null,
   "id": "b5a8722a",
   "metadata": {},
   "outputs": [],
   "source": [
    "# =================================================-\n",
    "#### Slide 29: Logistic regression: fit (cont'd)  ####\n",
    "\n",
    "# Fit the model.\n",
    "logistic_regression_model.fit(X_train_scaled, y_train)"
   ]
  },
  {
   "cell_type": "code",
   "execution_count": null,
   "id": "d94bf66c",
   "metadata": {},
   "outputs": [],
   "source": [
    "# =================================================-\n",
    "#### Slide 30: Logistic regression: predict  ####\n",
    "\n",
    "# Predict on test data.\n",
    "predicted_values = logistic_regression_model.predict(X_test_scaled)\n",
    "print(predicted_values[:20])"
   ]
  },
  {
   "cell_type": "code",
   "execution_count": null,
   "id": "8bfae0bc",
   "metadata": {},
   "outputs": [],
   "source": [
    "# =================================================-\n",
    "#### Slide 37: Confusion matrix and accuracy  ####\n",
    "\n",
    "# # Take a look at test data confusion matrix.\n",
    "# conf_matrix_test = metrics.confusion_matrix(y_test, predicted_values)\n",
    "# print(conf_matrix_test)\n",
    "# # Compute test model accuracy score.\n",
    "# test_accuracy_score = metrics.accuracy_score(y_test, predicted_values)\n",
    "# print(\"Accuracy on test data: \", test_accuracy_score)"
   ]
  },
  {
   "cell_type": "code",
   "execution_count": null,
   "id": "81e9a84f-7023-47c1-bfdf-7b5ab65c9876",
   "metadata": {},
   "outputs": [],
   "source": [
    "cmd = metrics.ConfusionMatrixDisplay.from_estimator(logistic_regression_model, X_test_scaled, y_test)\n",
    "plt.title(\"Confusion Matrix - Logistic Regression\");"
   ]
  },
  {
   "cell_type": "code",
   "execution_count": null,
   "id": "730587bd",
   "metadata": {},
   "outputs": [],
   "source": [
    "# =================================================-\n",
    "#### Slide 38: Classification report  ####\n",
    "\n",
    "# # Create a list of target names to interpret class assignments.\n",
    "# target_names = df_subset[\"stroke\"].unique()\n",
    "# target_names = target_names.tolist()\n",
    "# target_names = [str(x) for x in target_names]\n",
    "# print(class_report)"
   ]
  },
  {
   "cell_type": "code",
   "execution_count": null,
   "id": "4a5a4e3a-4f51-4ab4-ae3e-9cf72f5c1551",
   "metadata": {},
   "outputs": [],
   "source": [
    "perf_df = pd.DataFrame(\n",
    "    metrics.classification_report(y_test, predicted_values, output_dict=True, zero_division=0)\n",
    ").T.assign(model=\"log_reg\")\n",
    "perf_df"
   ]
  },
  {
   "cell_type": "code",
   "execution_count": null,
   "id": "0f2e8c3a",
   "metadata": {},
   "outputs": [],
   "source": [
    "# =================================================-\n",
    "#### Slide 42: Save accuracy score  ####\n",
    "\n",
    "# model_final = {\n",
    "#     \"metrics\": \"accuracy\",\n",
    "#     \"values\": round(test_accuracy_score, 4),\n",
    "#     \"model\": \"logistic\",\n",
    "# }\n",
    "# print(model_final)"
   ]
  },
  {
   "cell_type": "code",
   "execution_count": null,
   "id": "0601b9b2",
   "metadata": {},
   "outputs": [],
   "source": [
    "# =================================================-\n",
    "#### Slide 43: Getting probabilities instead of class labels  ####\n",
    "\n",
    "# Get probabilities instead of predicted values.\n",
    "test_probabilities = logistic_regression_model.predict_proba(X_test_scaled)\n",
    "print(test_probabilities[0:5, :])\n",
    "# Get probabilities of test predictions only.\n",
    "test_predictions = test_probabilities[:, 1]\n",
    "print(test_predictions[0:5])"
   ]
  },
  {
   "cell_type": "code",
   "execution_count": null,
   "id": "99f13b92",
   "metadata": {},
   "outputs": [],
   "source": [
    "# =================================================-\n",
    "#### Slide 44: Computing FPR, TPR, and threshold  ####\n",
    "\n",
    "# # Get FPR, TPR, and threshold values.\n",
    "# fpr, tpr, threshold = metrics.roc_curve(\n",
    "#     y_test, test_predictions  # <- test data labels\n",
    "# )  # <- predicted probabilities\n",
    "# print(\"False positive: \", fpr[:5])\n",
    "# print(\"True positive: \", tpr[:5])\n",
    "# print(\"Threshold: \", threshold[:5])"
   ]
  },
  {
   "cell_type": "code",
   "execution_count": null,
   "id": "2ff55b88",
   "metadata": {
    "tags": []
   },
   "outputs": [],
   "source": [
    "# =================================================-\n",
    "#### Slide 45: Computing AUC  ####\n",
    "\n",
    "# # Get AUC by providing the FPR and TPR.\n",
    "# auc = metrics.auc(fpr, tpr)\n",
    "# print(\"Area under the ROC curve: \", auc)"
   ]
  },
  {
   "cell_type": "code",
   "execution_count": null,
   "id": "9ac2b5dc-0d34-43fe-b8fa-53e9c28d0b28",
   "metadata": {},
   "outputs": [],
   "source": [
    "cmd = metrics.ConfusionMatrixDisplay.from_estimator(logistic_regression_model, X_test_scaled, y_test)\n",
    "plt.title(\"Confusion Matrix - Logistic Regression\");"
   ]
  },
  {
   "cell_type": "code",
   "execution_count": null,
   "id": "20004dc8-97ae-4ae2-ad87-fa9d12ef0828",
   "metadata": {},
   "outputs": [],
   "source": [
    "rcd = metrics.RocCurveDisplay.from_estimator(logistic_regression_model, X_test_scaled, y_test)\n",
    "plt.plot([0, 1], [0, 1], \"r--\")\n",
    "plt.title(\"ROC Curve - Logistic Regression\");"
   ]
  },
  {
   "cell_type": "code",
   "execution_count": null,
   "id": "6352b806-2fc8-4e01-b5eb-2ebfb91d575f",
   "metadata": {},
   "outputs": [],
   "source": [
    "prd = metrics.PrecisionRecallDisplay.from_estimator(logistic_regression_model, X_test_scaled, y_test)\n",
    "plt.title(\"PR Curve - Logistic Regression\");"
   ]
  },
  {
   "cell_type": "code",
   "execution_count": null,
   "id": "62131c8c-48fc-48d3-973e-116c97f62a14",
   "metadata": {},
   "outputs": [],
   "source": [
    "rcd.roc_auc"
   ]
  },
  {
   "cell_type": "code",
   "execution_count": null,
   "id": "4de170dd-0a68-4edc-8709-9f623f261939",
   "metadata": {},
   "outputs": [],
   "source": [
    "prd.average_precision"
   ]
  },
  {
   "cell_type": "code",
   "execution_count": null,
   "id": "4d6f8a00",
   "metadata": {},
   "outputs": [],
   "source": [
    "# =================================================-\n",
    "#### Slide 46: Putting it all together: ROC plot  ####\n",
    "\n",
    "# # Make an ROC curve plot.\n",
    "# plt.title(\"Receiver Operator Characteristic\")\n",
    "# plt.plot(fpr, tpr, \"b\", label=\"AUC = %0.2f\" % auc)\n",
    "# plt.legend(loc=\"lower right\")\n",
    "# plt.plot([0, 1], [0, 1], \"r--\")\n",
    "# plt.xlabel(\"False Positive Rate\")\n",
    "# plt.ylabel(\"True Positive Rate\")\n",
    "# plt.show()\n",
    "# # Make an ROC curve plot.\n",
    "# plt.title(\"Receiver Operator Characteristic\")\n",
    "# plt.plot(fpr, tpr, \"b\", label=\"AUC = %0.2f\" % auc)\n",
    "# plt.legend(loc=\"lower right\")\n",
    "# plt.plot([0, 1], [0, 1], \"r--\")\n",
    "# plt.xlabel(\"False Positive Rate\")\n",
    "# plt.ylabel(\"True Positive Rate\")\n",
    "# plt.show()\n",
    "\n",
    "\n",
    "#######################################################\n",
    "####  CONGRATULATIONS ON COMPLETING THIS MODULE!   ####\n",
    "#######################################################"
   ]
  },
  {
   "cell_type": "code",
   "execution_count": null,
   "id": "4f3a38b0",
   "metadata": {},
   "outputs": [],
   "source": [
    "#######################################################\n",
    "#######################################################\n",
    "############    COPYRIGHT - DATA SOCIETY   ############\n",
    "#######################################################\n",
    "#######################################################\n",
    "\n",
    "## 2 LOGISTICREGRESSION/LOGISTICREGRESSION/LOGISTICREGRESSION LOGISTICREGRESSION 3 ##\n",
    "\n",
    "## NOTE: To run individual pieces of code, select the line of code and\n",
    "##       press ctrl + enter for PCs or command + enter for Macs"
   ]
  },
  {
   "cell_type": "code",
   "execution_count": null,
   "id": "584ec188",
   "metadata": {},
   "outputs": [],
   "source": [
    "# =================================================-\n",
    "#### Slide 3: Accuracy on train vs. accuracy on test  ####\n",
    "\n",
    "# Compute trained model accuracy score.\n",
    "trained_accuracy_score = logistic_regression_model.score(X_train_scaled, y_train)\n",
    "print(\"Accuracy on train data: \", trained_accuracy_score)"
   ]
  },
  {
   "cell_type": "code",
   "execution_count": null,
   "id": "7b11bc0d",
   "metadata": {},
   "outputs": [],
   "source": [
    "# =================================================-\n",
    "#### Slide 15: Prepare parameters for optimization  ####\n",
    "\n",
    "# Create regularization penalty space.\n",
    "penalty = [\"l1\", \"l2\"]\n",
    "# Create regularization constant space.\n",
    "C = np.logspace(0, 10, 10)\n",
    "print(\"Regularization constant: \", C)\n",
    "# Create hyperparameter options dictionary.\n",
    "hyperparameters = dict(C=C, penalty=penalty)\n",
    "print(hyperparameters)"
   ]
  },
  {
   "cell_type": "code",
   "execution_count": null,
   "id": "b35299cf",
   "metadata": {},
   "outputs": [],
   "source": [
    "# =================================================-\n",
    "#### Slide 16: Set up cross-validation logistic function  ####\n",
    "\n",
    "# Grid search 10-fold cross-validation with above parameters.\n",
    "clf = GridSearchCV(\n",
    "    linear_model.LogisticRegression(solver=\"liblinear\"),  # <- function to optimize\n",
    "    hyperparameters,  # <- grid search parameters\n",
    "    cv=10,  # <- 10-fold cv\n",
    "    verbose=0,\n",
    ")  # <- no messages to show\n",
    "# Fit CV grid search.\n",
    "clf.fit(X_train_scaled, y_train)"
   ]
  },
  {
   "cell_type": "code",
   "execution_count": null,
   "id": "7f6210ff",
   "metadata": {},
   "outputs": [],
   "source": [
    "# =================================================-\n",
    "#### Slide 17: Check best parameters found by CV  ####\n",
    "\n",
    "# # Get best penalty and constant parameters.\n",
    "# penalty = best_model.best_estimator_.get_params()[\"penalty\"]\n",
    "# constant = best_model.best_estimator_.get_params()[\"C\"]\n",
    "# print(\"Best penalty: \", penalty)\n",
    "# print(\"Best C: \", constant)"
   ]
  },
  {
   "cell_type": "code",
   "execution_count": null,
   "id": "5feaa9b8-cea6-4650-a8e5-8b1ae3f3ec9c",
   "metadata": {},
   "outputs": [],
   "source": [
    "clf.best_params_"
   ]
  },
  {
   "cell_type": "code",
   "execution_count": null,
   "id": "11e47a84",
   "metadata": {},
   "outputs": [],
   "source": [
    "# =================================================-\n",
    "#### Slide 18: Predict using the best model parameters  ####\n",
    "\n",
    "# Predict on test data using best model.\n",
    "best_predicted_values = clf.predict(X_test_scaled)\n",
    "print(best_predicted_values)\n",
    "# Compute best model accuracy score.\n",
    "best_accuracy_score = metrics.accuracy_score(y_test, best_predicted_values)\n",
    "print(\"Accuracy on test data (best model): \", best_accuracy_score)"
   ]
  },
  {
   "cell_type": "code",
   "execution_count": null,
   "id": "cc790a70",
   "metadata": {},
   "outputs": [],
   "source": [
    "# =================================================-\n",
    "#### Slide 19: Accuracy on train vs. accuracy on test  ####\n",
    "\n",
    "# Compute trained model accuracy score.\n",
    "trained_accuracy_score = clf.score(X_train_scaled, y_train)\n",
    "print(\"Accuracy on train data: \", trained_accuracy_score)"
   ]
  },
  {
   "cell_type": "code",
   "execution_count": null,
   "id": "30930088",
   "metadata": {},
   "outputs": [],
   "source": [
    "# =================================================-\n",
    "#### Slide 20: Assessing the tuned model  ####\n",
    "\n",
    "# # Compute confusion matrix for best model.\n",
    "# best_confusion_matrix = metrics.confusion_matrix(y_test, best_predicted_values)\n",
    "# print(best_confusion_matrix)\n",
    "# # Create a list of target names to interpret class assignments.\n",
    "# target_names = [\"Low value\", \"High value\"]\n",
    "# print(best_class_report)"
   ]
  },
  {
   "cell_type": "code",
   "execution_count": null,
   "id": "712ceafe",
   "metadata": {},
   "outputs": [],
   "source": [
    "# =================================================-\n",
    "#### Slide 21: Save accuracy score  ####\n",
    "\n",
    "# model_final = {\n",
    "#     \"metrics\": \"accuracy\",\n",
    "#     \"values\": round(best_accuracy_score, 4),\n",
    "#     \"model\": \"logistic_tuned\",\n",
    "# }\n",
    "# print(model_final)"
   ]
  },
  {
   "cell_type": "code",
   "execution_count": null,
   "id": "d6f0a8b1",
   "metadata": {},
   "outputs": [],
   "source": [
    "# =================================================-\n",
    "#### Slide 22: Get metrics for ROC curve  ####\n",
    "\n",
    "# # Get probabilities instead of predicted values.\n",
    "# best_test_probabilities = best_model.predict_proba(X_test_scaled)\n",
    "# print(best_test_probabilities[0:5,])\n",
    "# # Get probabilities of test predictions only.\n",
    "# best_test_predictions = best_test_probabilities[:, 1]\n",
    "# print(best_test_predictions[0:5])"
   ]
  },
  {
   "cell_type": "code",
   "execution_count": null,
   "id": "bf6ec08a",
   "metadata": {},
   "outputs": [],
   "source": [
    "# =================================================-\n",
    "#### Slide 23: Get metrics for ROC curve (cont'd)  ####\n",
    "\n",
    "# # Get ROC curve metrics.\n",
    "# best_fpr, best_tpr, best_threshold = metrics.roc_curve(y_test, best_test_predictions)\n",
    "# best_auc = metrics.auc(best_fpr, best_tpr)\n",
    "# print(best_auc)"
   ]
  },
  {
   "cell_type": "code",
   "execution_count": null,
   "id": "fc2b37bc",
   "metadata": {},
   "outputs": [],
   "source": [
    "# =================================================-\n",
    "#### Slide 24: Plot ROC curve for both models  ####\n",
    "\n",
    "# # Make an ROC curve plot.\n",
    "# plt.title(\"Receiver Operator Characteristic\")\n",
    "# plt.plot(fpr, tpr, \"blue\", label=\"AUC = %0.2f\" % auc)\n",
    "# plt.plot(best_fpr, best_tpr, \"black\", label=\"AUC (best) = %0.2f\" % best_auc)\n",
    "# plt.legend(loc=\"lower right\")\n",
    "# plt.plot([0, 1], [0, 1], \"r--\")\n",
    "# plt.xlabel(\"False Positive Rate\")\n",
    "# plt.ylabel(\"True Positive Rate\");"
   ]
  },
  {
   "cell_type": "code",
   "execution_count": null,
   "id": "d2b3ff04-a967-47b2-8127-30d6f73c5eed",
   "metadata": {},
   "outputs": [],
   "source": [
    "cmd = metrics.ConfusionMatrixDisplay.from_estimator(clf, X_test_scaled, y_test)\n",
    "plt.title(\"Confusion Matrix - Logistic Regression\");"
   ]
  },
  {
   "cell_type": "code",
   "execution_count": null,
   "id": "d7bd24fc-c84b-4430-83b9-1a40a303c28e",
   "metadata": {},
   "outputs": [],
   "source": [
    "rcd = metrics.RocCurveDisplay.from_estimator(clf, X_test_scaled, y_test)\n",
    "plt.plot([0, 1], [0, 1], \"r--\")\n",
    "plt.title(\"ROC Curve - Logistic Regression\");"
   ]
  },
  {
   "cell_type": "code",
   "execution_count": null,
   "id": "98381781-e76b-4700-896a-03c71b120f6e",
   "metadata": {},
   "outputs": [],
   "source": [
    "prd = metrics.PrecisionRecallDisplay.from_estimator(clf, X_test_scaled, y_test)\n",
    "plt.title(\"PR Curve - Logistic Regression\");"
   ]
  },
  {
   "cell_type": "code",
   "execution_count": null,
   "id": "55956da5-bade-4c85-a6fb-644f0e79e69f",
   "metadata": {},
   "outputs": [],
   "source": [
    "rcd.roc_auc"
   ]
  },
  {
   "cell_type": "code",
   "execution_count": null,
   "id": "08f87bdb-9c60-4786-ae23-807eae644258",
   "metadata": {},
   "outputs": [],
   "source": [
    "prd.average_precision"
   ]
  },
  {
   "cell_type": "code",
   "execution_count": null,
   "id": "e483c61c-f8c6-48ce-be96-ac97962dbef5",
   "metadata": {},
   "outputs": [],
   "source": [
    "pd.concat([\n",
    "    pd.read_pickle(data_dir / \"knn-tuning.pkl\"),\n",
    "    perf_df\n",
    "]).to_pickle(data_dir / \"knn-lr-tuning.pkl\")"
   ]
  },
  {
   "cell_type": "code",
   "execution_count": null,
   "id": "3d1e36fd-79b5-485b-8e49-e17ed8d5563f",
   "metadata": {},
   "outputs": [],
   "source": [
    "joblib.dump(clf, data_dir / \"gscv-lr.pkl\")"
   ]
  },
  {
   "cell_type": "code",
   "execution_count": null,
   "id": "7907e00e",
   "metadata": {},
   "outputs": [],
   "source": [
    "# =================================================-\n",
    "#### Slide 26: Exercise  ####\n",
    "\n",
    "\n",
    "#######################################################\n",
    "####  CONGRATULATIONS ON COMPLETING THIS MODULE!   ####\n",
    "#######################################################"
   ]
  }
 ],
 "metadata": {
  "kernelspec": {
   "display_name": "Python 3 (ipykernel)",
   "language": "python",
   "name": "python3"
  },
  "language": "python",
  "language_info": {
   "codemirror_mode": {
    "name": "ipython",
    "version": 3
   },
   "file_extension": ".py",
   "mimetype": "text/x-python",
   "name": "python",
   "nbconvert_exporter": "python",
   "pygments_lexer": "ipython3",
   "version": "3.12.0"
  }
 },
 "nbformat": 4,
 "nbformat_minor": 5
}
