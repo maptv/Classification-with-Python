{
 "cells": [
  {
   "cell_type": "markdown",
   "id": "5668e134",
   "metadata": {},
   "source": [
    "## 2 LOGISTICREGRESSION/LOGISTICREGRESSION/LOGISTICREGRESSION LOGISTICREGRESSION 3 EXERCISE  ##\n",
    "#### Exercise ####\n",
    "#### Please refer to module 2 of LogisticRegression - LogisticRegression for Tasks 1-8\n",
    "#### Task 1\n",
    "##### Import the required packages. (Revisit this question as you complete the remaining exercises)\n",
    "##### Set the working directory to data directory.\n",
    "##### Print the working directory.\n",
    "##### Import the dataset `heart_failure_clinical_records_dataset.csv` as `ex_df`.\n",
    "##### Subset the DataFrame to include only numeric and categorical columns.\n",
    "#### Result:\n"
   ]
  },
  {
   "cell_type": "code",
   "execution_count": null,
   "id": "f0a3ba15",
   "metadata": {},
   "outputs": [],
   "source": []
  },
  {
   "cell_type": "markdown",
   "id": "117f2c37",
   "metadata": {},
   "source": [
    "#### Task 2\n",
    "##### If target is not binary, convert it to binary (Hint: calculate the mean and assign the above mean to 1 and below to 0).\n",
    "#### Result:\n"
   ]
  },
  {
   "cell_type": "code",
   "execution_count": null,
   "id": "aedd8dbf",
   "metadata": {},
   "outputs": [],
   "source": []
  },
  {
   "cell_type": "markdown",
   "id": "7786664f",
   "metadata": {},
   "source": [
    "#### Task 3\n",
    "##### Identify the two unique classes.\n",
    "##### Convert ex_target to `bool` so that it is a binary class.\n",
    "##### Check and convert NAs.\n",
    "##### Delete columns containing either 50% or more than 50% NaN Values.\n",
    "#### Result:\n"
   ]
  },
  {
   "cell_type": "code",
   "execution_count": null,
   "id": "c69bfc67",
   "metadata": {},
   "outputs": [],
   "source": []
  },
  {
   "cell_type": "markdown",
   "id": "911a35be",
   "metadata": {},
   "source": [
    "#### Task 4\n",
    "##### Write a function to impute NAs in both numeric and categorical columns.\n",
    "##### Split the data into X and y .\n",
    "##### Convert the categorical data to dummy variables.\n",
    "##### Set a seed and split data into train and test sets, use a 70 train - 30 test split.\n",
    "#### Result:\n"
   ]
  },
  {
   "cell_type": "code",
   "execution_count": null,
   "id": "12b9662f",
   "metadata": {},
   "outputs": [],
   "source": []
  },
  {
   "cell_type": "markdown",
   "id": "e5d3ec5a",
   "metadata": {},
   "source": [
    "#### Task 5\n",
    "##### Scale the features by fitting MinMaxScaler on the training data.\n",
    "##### Set up logistic regression model.\n",
    "##### Fit the model.\n",
    "##### Predict on test data.\n",
    "#### Result:\n"
   ]
  },
  {
   "cell_type": "code",
   "execution_count": null,
   "id": "18b9186f",
   "metadata": {},
   "outputs": [],
   "source": []
  },
  {
   "cell_type": "markdown",
   "id": "da8aa152",
   "metadata": {},
   "source": [
    "#### Task 6\n",
    "##### Take a look at test data confusion matrix.\n",
    "##### Compute test model accuracy score.\n",
    "##### Create a list of ex_target names to interpret class assignments.\n",
    "#### Result:\n"
   ]
  },
  {
   "cell_type": "code",
   "execution_count": null,
   "id": "49291c67",
   "metadata": {},
   "outputs": [],
   "source": []
  },
  {
   "cell_type": "markdown",
   "id": "1caac8b6",
   "metadata": {},
   "source": [
    "#### Task 7\n",
    "##### Print an entire classification report.\n",
    "##### Get probabilities instead of predicted values.\n",
    "##### Get probabilities of test predictions only.\n",
    "#### Result:\n"
   ]
  },
  {
   "cell_type": "code",
   "execution_count": null,
   "id": "e92429ae",
   "metadata": {},
   "outputs": [],
   "source": []
  },
  {
   "cell_type": "markdown",
   "id": "b410fb9d",
   "metadata": {},
   "source": [
    "#### Task 8\n",
    "##### Get FPR, TPR, and threshold values.\n",
    "##### Get AUC by providing the FPR and TPR.\n",
    "##### Make an ROC curve plot.\n",
    "#### Result:\n"
   ]
  },
  {
   "cell_type": "code",
   "execution_count": null,
   "id": "7283391d",
   "metadata": {},
   "outputs": [],
   "source": []
  },
  {
   "cell_type": "markdown",
   "id": "c07faa31",
   "metadata": {},
   "source": [
    "#### Please refer to module 3 of LogisticRegression - LogisticRegression for Tasks 9-13\n",
    "#### Task 9\n",
    "##### Compute trained model accuracy score. Complete the code by filling in the None:ex_trained_accuracy_score = logistic_regression_model.score(None, None)\n",
    "##### Create regularization penalty space with l1 and l2.\n",
    "##### Create regularization constant space.\n",
    "#### Result:\n"
   ]
  },
  {
   "cell_type": "code",
   "execution_count": null,
   "id": "7770a007",
   "metadata": {},
   "outputs": [],
   "source": []
  },
  {
   "cell_type": "markdown",
   "id": "2970d845",
   "metadata": {},
   "source": [
    "#### Task 10\n",
    "##### Execute a grid search 15-fold cross-validation with above parameters.\n",
    "##### Fit CV grid search and print the best_model\n",
    "#### Result:\n"
   ]
  },
  {
   "cell_type": "code",
   "execution_count": null,
   "id": "d176a465",
   "metadata": {},
   "outputs": [],
   "source": []
  },
  {
   "cell_type": "markdown",
   "id": "cee5ed02",
   "metadata": {},
   "source": [
    "#### Task 11\n",
    "##### Get best penalty and constant parameters.\n",
    "#### Result:\n"
   ]
  },
  {
   "cell_type": "code",
   "execution_count": null,
   "id": "2406adac",
   "metadata": {},
   "outputs": [],
   "source": []
  },
  {
   "cell_type": "markdown",
   "id": "f267806c",
   "metadata": {},
   "source": [
    "#### Task 12\n",
    "##### Predict on test data using best model and print it.\n",
    "##### Compute best model accuracy score and print it.\n",
    "##### Compute confusion matrix for best model and print it.\n",
    "##### Create a list of target names to interpret class assignments.\n",
    "##### Compute classification report for best model.\n",
    "#### Result:\n"
   ]
  },
  {
   "cell_type": "code",
   "execution_count": null,
   "id": "bf4ec5e4",
   "metadata": {},
   "outputs": [],
   "source": []
  },
  {
   "cell_type": "markdown",
   "id": "5e3f6928",
   "metadata": {},
   "source": [
    "#### Task 13\n",
    "##### Get probabilities instead of predicted values.\n",
    "##### Get probabilities of test predictions only.\n",
    "##### Get ROC curve metrics.\n",
    "##### Make an ROC curve plot.\n",
    "#### Result:\n"
   ]
  },
  {
   "cell_type": "code",
   "execution_count": null,
   "id": "bb4d3ac8",
   "metadata": {},
   "outputs": [],
   "source": []
  }
 ],
 "metadata": {
  "language": "python"
 },
 "nbformat": 4,
 "nbformat_minor": 5
}
