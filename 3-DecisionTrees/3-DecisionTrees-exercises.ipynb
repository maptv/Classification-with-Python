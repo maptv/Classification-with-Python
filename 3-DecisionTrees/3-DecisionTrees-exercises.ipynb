{
 "cells": [
  {
   "cell_type": "markdown",
   "id": "2c07a89e",
   "metadata": {},
   "source": [
    "## 3 DECISIONTREES/DECISIONTREES/DECISIONTREES DECISIONTREES 4 EXERCISE  ##\n",
    "#### Exercise ####\n",
    "#### Please refer to module 2 of DecisionTrees - DecisionTrees for Tasks 1-6\n",
    "#### Task 1\n",
    "##### Import the required packages\n",
    "##### Set the working directory (home_dir, main_dir, data_dir, plot_dir)\n",
    "#### Result:\n"
   ]
  },
  {
   "cell_type": "code",
   "execution_count": null,
   "id": "44c3c00f",
   "metadata": {},
   "outputs": [],
   "source": []
  },
  {
   "cell_type": "markdown",
   "id": "e5ab76bf",
   "metadata": {},
   "source": [
    "#### Task 2\n",
    "##### Read the dataset `heart_failure_clinical_records_dataset.csv` as `ex_df`\n",
    "##### Subset the dataframe to include only numeric and categorical columns\n",
    "##### Delete columns containing either 65% or more than 65% NaN Values\n",
    "##### Write a function to impute NA in both numeric and categorical columns\n",
    "#### Result:\n"
   ]
  },
  {
   "cell_type": "code",
   "execution_count": null,
   "id": "3ac2d577",
   "metadata": {},
   "outputs": [],
   "source": []
  },
  {
   "cell_type": "markdown",
   "id": "00e2692e",
   "metadata": {},
   "source": [
    "#### Task 3\n",
    "##### Identify the the two unique classes\n",
    "#### Result:\n"
   ]
  },
  {
   "cell_type": "code",
   "execution_count": null,
   "id": "6e2db72a",
   "metadata": {},
   "outputs": [],
   "source": []
  },
  {
   "cell_type": "markdown",
   "id": "97136474",
   "metadata": {},
   "source": [
    "#### Task 4\n",
    "##### \n",
    "##### Split the data into ex_X and ex_y\n",
    "#### Result:\n"
   ]
  },
  {
   "cell_type": "code",
   "execution_count": null,
   "id": "0930830e",
   "metadata": {},
   "outputs": [],
   "source": []
  },
  {
   "cell_type": "markdown",
   "id": "df084f79",
   "metadata": {},
   "source": [
    "#### Task 5\n",
    "##### Implement the Decision Tree and print it.\n",
    "##### Visualize `clf_fit_small`\n",
    "##### Split into train and test.\n",
    "#### Result:\n"
   ]
  },
  {
   "cell_type": "code",
   "execution_count": null,
   "id": "bcd2d98d",
   "metadata": {},
   "outputs": [],
   "source": []
  },
  {
   "cell_type": "markdown",
   "id": "bd2d8db7",
   "metadata": {},
   "source": [
    "#### Task 6\n",
    "##### Implement the Decision Tree on ex_X_train\n",
    "##### Predict on ex_X_test\n",
    "#### Result:\n"
   ]
  },
  {
   "cell_type": "code",
   "execution_count": null,
   "id": "437e8f30",
   "metadata": {},
   "outputs": [],
   "source": []
  },
  {
   "cell_type": "markdown",
   "id": "230b76bc",
   "metadata": {},
   "source": [
    "#### Please refer to module 3 of DecisionTrees - DecisionTrees for Task 7\n",
    "#### Task 7\n",
    "##### Compute test model accuracy score.\n",
    "##### Compute accuracy using training data.\n",
    "##### Calculate cv scores (accuracy) and print them.\n",
    "#### Result:\n"
   ]
  },
  {
   "cell_type": "code",
   "execution_count": null,
   "id": "c49ea2e3",
   "metadata": {},
   "outputs": [],
   "source": []
  },
  {
   "cell_type": "markdown",
   "id": "e0c02fc9",
   "metadata": {},
   "source": [
    "#### Please refer to module 4 of DecisionTrees - DecisionTrees for Tasks 8-12\n",
    "#### Task 8\n",
    "##### Define function that will determine the optimal number for each parameter.\n",
    "##### Optimize: max_depth\n",
    "#### Result:\n"
   ]
  },
  {
   "cell_type": "code",
   "execution_count": null,
   "id": "fecba455",
   "metadata": {},
   "outputs": [],
   "source": []
  },
  {
   "cell_type": "markdown",
   "id": "b9b0bdcd",
   "metadata": {},
   "source": [
    "#### Task 9\n",
    "##### Optimize: min samples split\n",
    "#### Result:\n"
   ]
  },
  {
   "cell_type": "code",
   "execution_count": null,
   "id": "0d26eb39",
   "metadata": {},
   "outputs": [],
   "source": []
  },
  {
   "cell_type": "markdown",
   "id": "4a04ba52",
   "metadata": {},
   "source": [
    "#### Task 10\n",
    "##### Optimize: Min_samples_leaf \n",
    "##### Optimize: max features\n",
    "#### Result:\n"
   ]
  },
  {
   "cell_type": "code",
   "execution_count": null,
   "id": "1bebe6e0",
   "metadata": {},
   "outputs": [],
   "source": []
  },
  {
   "cell_type": "markdown",
   "id": "0ed1119f",
   "metadata": {},
   "source": [
    "#### Task 11\n",
    "##### Print: ex_optimal_max_depth,ex_optimal_min_samples_split, ex_optimal_min_samples_split, ex_optimal_max_features\n",
    "#### Result:\n"
   ]
  },
  {
   "cell_type": "code",
   "execution_count": null,
   "id": "a5e384b7",
   "metadata": {},
   "outputs": [],
   "source": []
  },
  {
   "cell_type": "markdown",
   "id": "16bbc8f0",
   "metadata": {},
   "source": [
    "#### Task 12\n",
    "##### Set the seed.\n",
    "##### Build Decision Tree classifier with optimized values calculated above\n",
    "##### Compute accuracy of the optimized model using training data\n",
    "#### Result:\n"
   ]
  },
  {
   "cell_type": "code",
   "execution_count": null,
   "id": "c66bd4a7",
   "metadata": {},
   "outputs": [],
   "source": []
  }
 ],
 "metadata": {
  "language": "python"
 },
 "nbformat": 4,
 "nbformat_minor": 5
}
